{
 "cells": [
  {
   "cell_type": "code",
   "execution_count": 1,
   "metadata": {},
   "outputs": [],
   "source": [
    "import os\n",
    "from numpy import *\n",
    "import pandas as pd\n",
    "\n",
    "import matplotlib.pyplot as plt\n",
    "import seaborn as sns\n",
    "import geopandas as gpd\n",
    "\n",
    "from rasterstats import zonal_stats\n",
    "import rasterio\n",
    "from rasterio.merge import merge\n",
    "from rasterio.plot import show\n",
    "import glob, os\n",
    "# run for jupyter notebook\n",
    "from IPython.core.interactiveshell import InteractiveShell\n",
    "InteractiveShell.ast_node_interactivity = 'all'"
   ]
  },
  {
   "cell_type": "markdown",
   "metadata": {},
   "source": [
    "### Folder Structure"
   ]
  },
  {
   "cell_type": "code",
   "execution_count": 2,
   "metadata": {},
   "outputs": [],
   "source": [
    "#%% Read in data\n",
    "rice_root = '/home/apoorval/Research/GeoSpatial/India_Forests/'\n",
    "dbox_root = '/home/alal/Dropbox/1_Research/India_Forests/'\n",
    "# root = dbox_root \n",
    "root = rice_root\n",
    "code = root + 'Code'\n",
    "data = root + 'Data'"
   ]
  },
  {
   "cell_type": "code",
   "execution_count": 3,
   "metadata": {},
   "outputs": [
    {
     "data": {
      "text/plain": [
       "'/home/apoorval/Research/GeoSpatial/India_Forests/Code'"
      ]
     },
     "execution_count": 3,
     "metadata": {},
     "output_type": "execute_result"
    }
   ],
   "source": [
    "%pwd"
   ]
  },
  {
   "cell_type": "code",
   "execution_count": 4,
   "metadata": {},
   "outputs": [
    {
     "name": "stdout",
     "output_type": "stream",
     "text": [
      "/home/apoorval/Research/GeoSpatial/India_Forests/Data/Spatial\n",
      "deforestation.qgz  \u001b[0m\u001b[01;34mProcessed\u001b[0m/  \u001b[01;34mRasters\u001b[0m/  \u001b[01;34mVectors\u001b[0m/\n"
     ]
    }
   ],
   "source": [
    "%cd {data + '/Spatial/'}\n",
    "%ls"
   ]
  },
  {
   "cell_type": "code",
   "execution_count": 2,
   "metadata": {},
   "outputs": [],
   "source": [
    "path_villages = '/scratch/users/asimoes/data/processed/'\n",
    "vil_treat = gpd.read_file(path_villages+\"all_villages_2011.gpkg\")"
   ]
  },
  {
   "cell_type": "markdown",
   "metadata": {},
   "source": [
    "# Deforestation "
   ]
  },
  {
   "cell_type": "markdown",
   "metadata": {},
   "source": [
    "## Raster Merge "
   ]
  },
  {
   "cell_type": "markdown",
   "metadata": {},
   "source": [
    "### Dry Run "
   ]
  },
  {
   "cell_type": "code",
   "execution_count": 3,
   "metadata": {},
   "outputs": [],
   "source": [
    "path_rasters = '/scratch/users/asimoes/data/rasters/'\n",
    "deforestation = path_rasters + 'Hansen_GFC-2017-v1.5_lossyear_30N_080E.tif'\n",
    "ex_ante       = path_rasters + 'Hansen_GFC-2017-v1.5_treecover2000_30N_080E.tif'"
   ]
  },
  {
   "cell_type": "code",
   "execution_count": 9,
   "metadata": {},
   "outputs": [
    {
     "name": "stdout",
     "output_type": "stream",
     "text": [
      "{'driver': 'GTiff', 'dtype': 'uint8', 'nodata': None, 'width': 40000, 'height': 40000, 'count': 1, 'crs': CRS.from_epsg(4326), 'transform': Affine(0.00025, 0.0, 80.0,\n",
      "       0.0, -0.00025, 30.0), 'tiled': False, 'compress': 'lzw', 'interleave': 'band'}\n"
     ]
    }
   ],
   "source": [
    "with rasterio.open(deforestation) as src:\n",
    "    print(src.profile)"
   ]
  },
  {
   "cell_type": "markdown",
   "metadata": {},
   "source": [
    "## Run Merge "
   ]
  },
  {
   "cell_type": "markdown",
   "metadata": {},
   "source": [
    "## All "
   ]
  },
  {
   "cell_type": "code",
   "execution_count": 4,
   "metadata": {},
   "outputs": [
    {
     "ename": "NameError",
     "evalue": "name 'root' is not defined",
     "output_type": "error",
     "traceback": [
      "\u001b[0;31m---------------------------------------------------------------------------\u001b[0m",
      "\u001b[0;31mNameError\u001b[0m                                 Traceback (most recent call last)",
      "\u001b[0;32m<ipython-input-4-4fb4bb0879f2>\u001b[0m in \u001b[0;36m<module>\u001b[0;34m\u001b[0m\n\u001b[0;32m----> 1\u001b[0;31m \u001b[0mrasters\u001b[0m \u001b[0;34m=\u001b[0m \u001b[0mroot\u001b[0m \u001b[0;34m+\u001b[0m \u001b[0;34m'Data/Spatial/Rasters/'\u001b[0m\u001b[0;34m\u001b[0m\u001b[0m\n\u001b[0m\u001b[1;32m      2\u001b[0m \u001b[0mget_ipython\u001b[0m\u001b[0;34m(\u001b[0m\u001b[0;34m)\u001b[0m\u001b[0;34m.\u001b[0m\u001b[0mrun_line_magic\u001b[0m\u001b[0;34m(\u001b[0m\u001b[0;34m'ls'\u001b[0m\u001b[0;34m,\u001b[0m \u001b[0;34m'{rasters}'\u001b[0m\u001b[0;34m)\u001b[0m\u001b[0;34m\u001b[0m\u001b[0m\n",
      "\u001b[0;31mNameError\u001b[0m: name 'root' is not defined"
     ]
    }
   ],
   "source": [
    "rasters = root + 'Data/Spatial/Rasters/'\n",
    "%ls {rasters}"
   ]
  },
  {
   "cell_type": "code",
   "execution_count": 5,
   "metadata": {},
   "outputs": [],
   "source": [
    "def_master = path_rasters + '_Hansen_GFC_lossyear_all.tif'"
   ]
  },
  {
   "cell_type": "code",
   "execution_count": 6,
   "metadata": {},
   "outputs": [
    {
     "name": "stdout",
     "output_type": "stream",
     "text": [
      "{'driver': 'GTiff', 'dtype': 'uint8', 'nodata': None, 'width': 120000, 'height': 120000, 'count': 1, 'crs': CRS.from_epsg(4326), 'transform': Affine(0.00025, 0.0, 70.0,\n",
      "       0.0, -0.00025, 40.0), 'tiled': False, 'interleave': 'band'}\n"
     ]
    }
   ],
   "source": [
    "with rasterio.open(def_master) as src:\n",
    "    print(src.profile)"
   ]
  },
  {
   "cell_type": "code",
   "execution_count": 7,
   "metadata": {},
   "outputs": [
    {
     "data": {
      "text/plain": [
       "{'init': 'epsg:4326'}"
      ]
     },
     "execution_count": 7,
     "metadata": {},
     "output_type": "execute_result"
    }
   ],
   "source": [
    "vil_treat.crs"
   ]
  },
  {
   "cell_type": "code",
   "execution_count": 8,
   "metadata": {},
   "outputs": [
    {
     "name": "stdout",
     "output_type": "stream",
     "text": [
      "CPU times: user 49min 30s, sys: 28min 45s, total: 1h 18min 16s\n",
      "Wall time: 1h 20min 10s\n"
     ]
    }
   ],
   "source": [
    "%%time\n",
    "all_def = gpd.GeoDataFrame.from_features( zonal_stats(vil_treat, def_master,   \n",
    "            prefix = 'deforest_', stats='count', nodata=-1, \n",
    "            categorical=True, geojson_out=True))"
   ]
  },
  {
   "cell_type": "code",
   "execution_count": 9,
   "metadata": {},
   "outputs": [
    {
     "data": {
      "text/plain": [
       "(615279, 155)"
      ]
     },
     "execution_count": 9,
     "metadata": {},
     "output_type": "execute_result"
    }
   ],
   "source": [
    "all_def.shape"
   ]
  },
  {
   "cell_type": "code",
   "execution_count": 10,
   "metadata": {},
   "outputs": [],
   "source": [
    "all_def.crs = vil_treat.crs"
   ]
  },
  {
   "cell_type": "code",
   "execution_count": null,
   "metadata": {},
   "outputs": [],
   "source": [
    "all_def.to_file(path_villages + 'all_village_deforestation_2011.gpkg', driver='GPKG')"
   ]
  },
  {
   "cell_type": "code",
   "execution_count": 19,
   "metadata": {},
   "outputs": [
    {
     "data": {
      "text/plain": [
       "Index(['ANDHR_ID', 'BIHAR_ID', 'CHHAT_ID', 'CODE_2011', 'DISTRICT', 'F_AGLB',\n",
       "       'F_CULT', 'F_ILLT', 'F_L6', 'F_LIT',\n",
       "       ...\n",
       "       'deforest_4', 'deforest_5', 'deforest_6', 'deforest_7', 'deforest_8',\n",
       "       'deforest_9', 'deforest_count', 'geometry', 'index_righ', 'sch'],\n",
       "      dtype='object', length=126)"
      ]
     },
     "execution_count": 19,
     "metadata": {},
     "output_type": "execute_result"
    }
   ],
   "source": [
    "all_def.columns"
   ]
  },
  {
   "cell_type": "markdown",
   "metadata": {},
   "source": [
    "# Ex-Ante Forest Levels "
   ]
  },
  {
   "cell_type": "code",
   "execution_count": 14,
   "metadata": {},
   "outputs": [
    {
     "name": "stdout",
     "output_type": "stream",
     "text": [
      "downloader.sh\n",
      "forest_rasters.txt\n",
      "Hansen_GFC-2017-v1.5_datamask_20N_070E.tif\n",
      "Hansen_GFC-2017-v1.5_datamask_20N_080E.tif\n",
      "Hansen_GFC-2017-v1.5_datamask_30N_080E.tif\n",
      "Hansen_GFC-2017-v1.5_datamask_30N_090E.tif\n",
      "Hansen_GFC-2017-v1.5_datamask_40N_070E.tif\n",
      "Hansen_GFC-2017-v1.5_lossyear_20N_070E.tif\n",
      "Hansen_GFC-2017-v1.5_lossyear_20N_080E.tif\n",
      "Hansen_GFC-2017-v1.5_lossyear_30N_070E.tif\n",
      "Hansen_GFC-2017-v1.5_lossyear_30N_080E.tif\n",
      "Hansen_GFC-2017-v1.5_lossyear_30N_090E.tif\n",
      "Hansen_GFC-2017-v1.5_lossyear_40N_070E.tif\n",
      "Hansen_GFC-2017-v1.5_treecover2000_20N_070E.tif\n",
      "Hansen_GFC-2017-v1.5_treecover2000_20N_080E.tif\n",
      "Hansen_GFC-2017-v1.5_treecover2000_30N_070E.tif\n",
      "Hansen_GFC-2017-v1.5_treecover2000_30N_080E.tif\n",
      "Hansen_GFC-2017-v1.5_treecover2000_30N_090E.tif\n",
      "Hansen_GFC-2017-v1.5_treecover2000_40N_070E.tif\n",
      "_Hansen_GFC_lossyear_all.tif\n",
      "_Hansen_GFC_treecover2000_all.tif\n",
      "_Hansen_GFC_treecover2000_all.tif.aux.xml\n",
      "\u001b[0m\u001b[01;34mindia-annual-winter-cropped-area-2001-2016-1km\u001b[0m/\n"
     ]
    }
   ],
   "source": [
    "rasters = root + 'Data/Spatial/Rasters/'\n",
    "%ls {rasters}"
   ]
  },
  {
   "cell_type": "markdown",
   "metadata": {},
   "source": [
    "## Run Merge "
   ]
  },
  {
   "cell_type": "code",
   "execution_count": 4,
   "metadata": {},
   "outputs": [],
   "source": [
    "ea_master = path_rasters + '_Hansen_GFC_treecover2000_all.tif'"
   ]
  },
  {
   "cell_type": "code",
   "execution_count": 5,
   "metadata": {},
   "outputs": [
    {
     "name": "stdout",
     "output_type": "stream",
     "text": [
      "{'driver': 'GTiff', 'dtype': 'uint8', 'nodata': None, 'width': 120000, 'height': 120000, 'count': 1, 'crs': CRS.from_epsg(4326), 'transform': Affine(0.00025, 0.0, 70.0,\n",
      "       0.0, -0.00025, 40.0), 'tiled': False, 'interleave': 'band'}\n"
     ]
    }
   ],
   "source": [
    "with rasterio.open(ea_master) as src:\n",
    "    print(src.profile)"
   ]
  },
  {
   "cell_type": "code",
   "execution_count": 6,
   "metadata": {},
   "outputs": [
    {
     "name": "stdout",
     "output_type": "stream",
     "text": [
      "CPU times: user 47min 13s, sys: 26min 33s, total: 1h 13min 47s\n",
      "Wall time: 1h 32min 1s\n"
     ]
    }
   ],
   "source": [
    "%%time\n",
    "all_def = gpd.GeoDataFrame.from_features(zonal_stats(vil_treat, ea_master,   \n",
    "            prefix = 'preF_', nodata=-1, geojson_out = True))"
   ]
  },
  {
   "cell_type": "code",
   "execution_count": 7,
   "metadata": {},
   "outputs": [],
   "source": [
    "all_def.crs = vil_treat.crs"
   ]
  },
  {
   "cell_type": "code",
   "execution_count": 8,
   "metadata": {},
   "outputs": [],
   "source": [
    "all_def.to_file(path_villages + 'all_village_ex_ante_2011.gpkg', driver='GPKG')"
   ]
  },
  {
   "cell_type": "code",
   "execution_count": 25,
   "metadata": {},
   "outputs": [
    {
     "data": {
      "text/plain": [
       "Index(['ANDHR_ID', 'BIHAR_ID', 'CHHAT_ID', 'CODE_2011', 'DISTRICT', 'F_AGLB',\n",
       "       'F_CULT', 'F_ILLT', 'F_L6', 'F_LIT',\n",
       "       ...\n",
       "       'T_M_CL_0_3', 'T_M_CL_3_6', 'WESTBE_ID', 'geometry', 'index_righ',\n",
       "       'preF_count', 'preF_max', 'preF_mean', 'preF_min', 'sch'],\n",
       "      dtype='object', length=111)"
      ]
     },
     "execution_count": 25,
     "metadata": {},
     "output_type": "execute_result"
    }
   ],
   "source": [
    "all_def.columns"
   ]
  },
  {
   "cell_type": "code",
   "execution_count": 26,
   "metadata": {},
   "outputs": [
    {
     "name": "stdout",
     "output_type": "stream",
     "text": [
      "done\n"
     ]
    }
   ],
   "source": [
    "print('done')"
   ]
  },
  {
   "cell_type": "code",
   "execution_count": null,
   "metadata": {},
   "outputs": [
    {
     "name": "stderr",
     "output_type": "stream",
     "text": [
      "/home/apoorval/.local/lib/python3.6/site-packages/geopandas/io/file.py:108: FionaDeprecationWarning: Use fiona.Env() instead.\n",
      "  with fiona.drivers():\n"
     ]
    }
   ],
   "source": [
    "all_def.to_file(data + '/Spatial/Processed/all_village_ex_ante.geojson')"
   ]
  }
 ],
 "metadata": {
  "kernelspec": {
   "display_name": "Python 3",
   "language": "python",
   "name": "python3"
  },
  "language_info": {
   "codemirror_mode": {
    "name": "ipython",
    "version": 3
   },
   "file_extension": ".py",
   "mimetype": "text/x-python",
   "name": "python",
   "nbconvert_exporter": "python",
   "pygments_lexer": "ipython3",
   "version": "3.6.1"
  }
 },
 "nbformat": 4,
 "nbformat_minor": 2
}
